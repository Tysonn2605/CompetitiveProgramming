{
 "cells": [
  {
   "cell_type": "markdown",
   "metadata": {},
   "source": [
    "# TP Chaînes de Markov\n",
    "\n",
    "## 1- Génération d'une variable aléatoire discrète"
   ]
  },
  {
   "cell_type": "markdown",
   "metadata": {},
   "source": [
    "### Exemple : \n",
    "On se place sur un espace fini\n",
    "$$\n",
    "E= \\{ Rouge, Bleu, Vert\\}\n",
    "$$\n",
    "\n",
    "On souhaite simuler une variable aléatoire de loi :\n",
    "$$\n",
    "\\begin{array}{c|ccc}\n",
    "X & Rouge & Bleu & Vert \\\\\n",
    "\\hline\n",
    "\\mathbb{P}(X=k) & \\frac{1}{2} & \\frac{1}{3} & \\frac{1}{6}\n",
    "\\end{array}\n",
    "$$\n",
    "\n",
    "Pour cela, on se sert de la fonction Python\n",
    "$$ np.random.uniform(0,1) $$\n",
    "qui simule une loi uniforme sur [0,1]"
   ]
  },
  {
   "cell_type": "code",
   "execution_count": 1,
   "metadata": {},
   "outputs": [],
   "source": [
    "import numpy as np\n",
    "import matplotlib.pyplot as plt"
   ]
  },
  {
   "cell_type": "code",
   "execution_count": 9,
   "metadata": {},
   "outputs": [
    {
     "name": "stdout",
     "output_type": "stream",
     "text": [
      "Vert\n"
     ]
    }
   ],
   "source": [
    "#Simulation d'une réalisation de la variable aléatoire X \n",
    "x=np.random.uniform(0,1)\n",
    "if x <= 1/2 :\n",
    "    print(\"Rouge\");\n",
    "elif x<= 5/6 :\n",
    "    print(\"Bleu\");\n",
    "else: print(\"Vert\");\n",
    "    \n"
   ]
  },
  {
   "cell_type": "markdown",
   "metadata": {},
   "source": [
    "Expliquer pourquoi l'exemple précédent fonctionne."
   ]
  },
  {
   "cell_type": "markdown",
   "metadata": {},
   "source": []
  },
  {
   "cell_type": "markdown",
   "metadata": {},
   "source": [
    "### Exercice 1\n",
    "Soit $m\\in\\mathbb{N}$. On se place sur l'ensemble \n",
    "$$\n",
    "E_m= \\{0, 1, ..., m\\}\n",
    "$$\n",
    "1. Écrire une fonction \"Simu\" qui prend en entrée un vecteur de probabilité $$\\mu=(p_0~~\\ldots ~~ p_m)$$ et qui simule une observation d'une variable aléatoire $X$ telle que $\\mathbb{P}(X=k)=p_k$ pour tout $k\\in E_m$.\n",
    "\n",
    "2. Vérifier son bon fonctionnement pour le vecteur $$\\mu=(1/4,1/3,1/12,1/6,1/6).$$"
   ]
  },
  {
   "cell_type": "code",
   "execution_count": 10,
   "metadata": {},
   "outputs": [],
   "source": [
    "# Définition de la fonction Simu\n",
    "def Simu(mu):\n",
    "    u = np.random.uniform(0,1)\n",
    "    c = np.cumsum(mu)\n",
    "    c = np.insert(c,0,0, axis=0)\n",
    "    for i in range(len(mu)):\n",
    "        if u > c[i] and u <= c[i+1]:\n",
    "            return i\n"
   ]
  },
  {
   "cell_type": "code",
   "execution_count": 16,
   "metadata": {},
   "outputs": [
    {
     "name": "stdout",
     "output_type": "stream",
     "text": [
      "1\n",
      "4\n",
      "0\n",
      "0\n",
      "1\n",
      "1\n",
      "4\n",
      "0\n",
      "1\n",
      "1\n"
     ]
    }
   ],
   "source": [
    "# Test de la fonction Simu\n",
    "mu=(1/4,1/3,1/12,1/6,1/6)\n",
    "for i in range(10):\n",
    "    print(Simu(mu))"
   ]
  },
  {
   "cell_type": "markdown",
   "metadata": {},
   "source": [
    "## 2- Application à la simulation d'une chaîne de Markov"
   ]
  },
  {
   "cell_type": "markdown",
   "metadata": {},
   "source": [
    "### Exemple :\n",
    "\n",
    "On considère la chaîne de Markov sur $E_2=\\{0,1,2\\}$ de matrice de transition\n",
    "$$P= \\begin{pmatrix} 0 & 0.1 & 0.9 \\\\ 0.1 & 0 & 0.9 \\\\ 0.5 & 0.5 & 0 \\end{pmatrix}$$"
   ]
  },
  {
   "cell_type": "markdown",
   "metadata": {},
   "source": [
    "On rappelle que si $\\mu_n$ désigne la loi de $X_n$, c'est à dire:\n",
    "$$\n",
    "\\mu_n= \n",
    "\\begin{pmatrix}\\mathbb{P}(X_n=0)& \\mathbb{P}(X_n=1)& \\mathbb{P}(X_n=2)\n",
    "\\end{pmatrix}\n",
    "$$\n",
    "\n",
    "\n",
    "Alors, on a la relation:\n",
    "$$\n",
    "\\mu_{n+1} = \\mu_{n}P\n",
    "$$\n",
    "\n",
    "Prenons $X_0$ de loi \n",
    "$$\n",
    "\\mu_0 = \\begin{pmatrix}\n",
    "\\frac{1}{2}& \\frac{1}{3}& \\frac{1}{6}\n",
    "\\end{pmatrix}\n",
    "$$\n",
    "\n",
    "On donne le code suivant."
   ]
  },
  {
   "cell_type": "code",
   "execution_count": null,
   "metadata": {},
   "outputs": [],
   "source": [
    "# Simulation de n pas dans la chaîne de Markov:\n",
    "n=100\n",
    "Mkv=[]\n",
    "\n",
    "# Simulation de X_0:\n",
    "mu_0=(1/2,1/3,1/6)\n",
    "Mkv.append(Simu(mu_0))\n",
    "\n",
    "# Matrice de transition:\n",
    "P = np.array([[0, 0.1, 0.9],\n",
    "              [0.1, 0, 0.9],\n",
    "              [0.5, 0.5, 0.0]])\n",
    "    \n",
    "\n",
    "for i in range(n):\n",
    "    State = Mkv[-1] # On sélectionne la ligne de P correspondant à l'état dans lequel est la chaîne\n",
    "    mu_i= P[State] \n",
    "    Mkv.append(Simu(mu_i))# On simule une réalisation de loi la ligne correspondante.\n",
    "\n",
    "\n",
    "print(Mkv)\n"
   ]
  },
  {
   "cell_type": "markdown",
   "metadata": {},
   "source": [
    "S'approprier le code ci dessus. On pourra par exemple :\n",
    "- faire varier le nombre de pas dans la chaîne de Markov ;\n",
    "- changer la matrice de transition et/ou la probabilité initiale."
   ]
  },
  {
   "cell_type": "markdown",
   "metadata": {},
   "source": [
    "### Exercice 2 : \n",
    "On souhaite simuler une chaîne de Markov sur $E_m=\\{0,\\ldots,m\\}$. \n",
    "Écrire une fonction \"Markov\" qui prend en paramètres :\n",
    "- une loi initiale, \n",
    "- une matrice de transition,\n",
    "- un nombre $n$ de pas à simuler \n",
    "\n",
    "et qui retourne un vecteur contenant les $n+1$  états parcourus par la chaîne de Markov.\n",
    "\n",
    "Vérifier le bon fonctionnement du code à l'aide de l'exemple précédent."
   ]
  },
  {
   "cell_type": "code",
   "execution_count": null,
   "metadata": {},
   "outputs": [],
   "source": []
  },
  {
   "cell_type": "markdown",
   "metadata": {},
   "source": [
    "### Représentation et visualisation\n",
    "\n",
    "Revenons à notre exemple. On peut chercher à représenter la trajectoire en fonction du nombre de pas :"
   ]
  },
  {
   "cell_type": "code",
   "execution_count": null,
   "metadata": {
    "scrolled": false
   },
   "outputs": [],
   "source": [
    "#Représentation de la chaîne de Markov donné en exemple :\n",
    "Niter=range(n+1)\n",
    "plt.plot(Niter,Mkv)"
   ]
  },
  {
   "cell_type": "markdown",
   "metadata": {},
   "source": [
    "On voit qu'en temps long, ce genre de graphique n'est pas très utile. \n",
    "À la place, on dessine un histogramme :"
   ]
  },
  {
   "cell_type": "code",
   "execution_count": null,
   "metadata": {},
   "outputs": [],
   "source": [
    "plt.hist(Mkv, range = (-0.5, 2.5), density=False, bins = 3,edgecolor = 'red')"
   ]
  },
  {
   "cell_type": "markdown",
   "metadata": {},
   "source": [
    "### Exercice 3 :\n",
    "\n",
    "1. Se servir du code écrit à l'exercice 2 pour simuler $n$ pas d'une chaîne de Markov $(X_n)_{n \\in \\mathbb{N}}$ et représenter l'histogramme obtenu pour différentes valeurs de $n$. \n",
    "<br>\n",
    "On prendra différentes matrices de transitions et lois initiales donnant :\n",
    "- une chaîne irréductible, récurrente et apériodique,\n",
    "- une chaîne avec plusieurs états transitoires et une seule classe récurrente,\n",
    "- une chaîne avec plusieurs classes récurrentes.\n",
    "<br>\n",
    "<br>\n",
    "Pour chaque exemple, illustrer en faisant plusieurs simulations avec différents choix de loi initiale, le comportement de la chaîne de Markov et commenter les résultats obtenus.\n",
    "\n",
    "#### Une simulation de chaîne irréductible, récurrente et apériodique :"
   ]
  },
  {
   "cell_type": "code",
   "execution_count": null,
   "metadata": {},
   "outputs": [],
   "source": []
  },
  {
   "cell_type": "markdown",
   "metadata": {},
   "source": [
    "#### Commentaires :\n",
    "<br>\n",
    "<br>\n",
    "<br>\n",
    "\n",
    "#### Une simulation de chaîne comportant plusieurs états transitoires  et une seule classe récurrente :"
   ]
  },
  {
   "cell_type": "code",
   "execution_count": null,
   "metadata": {},
   "outputs": [],
   "source": []
  },
  {
   "cell_type": "markdown",
   "metadata": {},
   "source": [
    "#### Commentaires :\n",
    "<br>\n",
    "<br>\n",
    "<br>\n",
    "\n",
    "#### Une simulation de chaîne comportant plusieurs classes récurrentes :"
   ]
  },
  {
   "cell_type": "code",
   "execution_count": null,
   "metadata": {},
   "outputs": [],
   "source": []
  },
  {
   "cell_type": "markdown",
   "metadata": {},
   "source": [
    "#### Commentaires :\n",
    "<br>\n",
    "<br>\n",
    "<br>"
   ]
  },
  {
   "cell_type": "markdown",
   "metadata": {},
   "source": [
    "### 3- Loi de $X_n$"
   ]
  },
  {
   "cell_type": "markdown",
   "metadata": {},
   "source": [
    "Ecrire une fonction puissanceM qui prend en arguments une matrice $M$ et un entier naturel $n$ et renvoie la puissance $n^{\\textrm{ième}}$ de la matrice $M$.\n",
    "\n",
    "On pourra utiliser la commande np.dot pour le produit matriciel."
   ]
  },
  {
   "cell_type": "code",
   "execution_count": null,
   "metadata": {},
   "outputs": [],
   "source": []
  },
  {
   "cell_type": "markdown",
   "metadata": {},
   "source": [
    "La tester sur l'exemple ci-dessous."
   ]
  },
  {
   "cell_type": "code",
   "execution_count": null,
   "metadata": {},
   "outputs": [],
   "source": [
    "# Exemple \n",
    "M = np.array([[0, 1, 2],\n",
    "              [1, 1, 0],\n",
    "              [0, -1, 1]])\n",
    "# Calcul des puissances de P\n",
    "puissanceM(M,14)"
   ]
  },
  {
   "cell_type": "markdown",
   "metadata": {},
   "source": [
    "### Exercice 4 : \n",
    "\n",
    "1. Écrire un programme \"LoiXn\" qui prend en arguments : \n",
    "- une matrice de transition,\n",
    "- un entier n,\n",
    "- le vecteur qui représente la loi initiale,\n",
    "<br>\n",
    "et qui renvoie la loi de $X_n$ (sous forme d'un vecteur)."
   ]
  },
  {
   "cell_type": "code",
   "execution_count": null,
   "metadata": {},
   "outputs": [],
   "source": []
  },
  {
   "cell_type": "markdown",
   "metadata": {},
   "source": [
    "On considère à nouveau la chaîne de Markov $(X_k)_{k\\in \\mathbb{N}}$ sur $E_2$ de matrice de transition\n",
    "$$P= \\begin{pmatrix} 0 & 0.1 & 0.9 \\\\ 0.1 & 0 & 0.9 \\\\ 0.5 & 0.5 & 0 \\end{pmatrix}.$$\n",
    "\n",
    "2. Donner la loi $\\mu_{n}$ de $X_n$ lorsque $\\mathbb{P}(X_0=0)=1$ pour différentes valeurs de $n$."
   ]
  },
  {
   "cell_type": "code",
   "execution_count": null,
   "metadata": {},
   "outputs": [],
   "source": [
    "P = np.array([[0, 0.1, 0.9],\n",
    "              [0.1, 0, 0.9],\n",
    "              [0.5, 0.5, 0.0]])\n"
   ]
  },
  {
   "cell_type": "markdown",
   "metadata": {},
   "source": [
    "a. Que constate-t-on ? \n",
    "<br>\n",
    "<br>\n",
    "<br>\n",
    "<br>\n",
    "b. Illustrer graphiquement le résultat obtenu."
   ]
  },
  {
   "cell_type": "code",
   "execution_count": null,
   "metadata": {},
   "outputs": [],
   "source": []
  },
  {
   "cell_type": "markdown",
   "metadata": {},
   "source": [
    "c. Faire de même avec différents choix de loi initiale. Que remarque-t-on ?\n"
   ]
  },
  {
   "cell_type": "markdown",
   "metadata": {},
   "source": [
    "d. Considérons $\\mu_{100}$. Calculer $\\mu_{100}P$."
   ]
  },
  {
   "cell_type": "code",
   "execution_count": null,
   "metadata": {},
   "outputs": [],
   "source": []
  },
  {
   "cell_type": "markdown",
   "metadata": {},
   "source": [
    "- Que constate-t-on ? \n",
    "<br>\n",
    "<br>\n",
    "- Quel résultat cela illustre-il ? \n",
    "<br>\n",
    "<br>\n",
    "<br>\n",
    "<br>"
   ]
  },
  {
   "cell_type": "markdown",
   "metadata": {},
   "source": [
    "3. On considère maintenant la chaîne $(Z_n)_{n\\in \\mathbb{N}} $ sur $\\{0,1,2,3\\}$ de matrice de transition :\n",
    "    $$P_a= \\begin{pmatrix} 0  & 0.4 & 0   & 0.6 \\\\ \n",
    "                        0.3 & 0   & 0.7 & 0   \\\\ \n",
    "                         0  & 0.6 & 0   & 0.4  \\\\\n",
    "                        0.2 & 0   & 0.8 & 0     \n",
    "\\end{pmatrix}$$"
   ]
  },
  {
   "cell_type": "code",
   "execution_count": null,
   "metadata": {},
   "outputs": [],
   "source": [
    "Pa = np.array([[0, 0.4, 0,0.6],\n",
    "              [0.3, 0, 0.7,0],\n",
    "              [0, 0.6, 0.0,0.4],\n",
    "              [0.2, 0,0.8,0]])"
   ]
  },
  {
   "cell_type": "markdown",
   "metadata": {},
   "source": [
    "a. Calculer la loi de $Z_n$ pour $n$ grand et pair avec pour loi initiale \n",
    "$$\\mu_0=(1~~0~~0~~0).$$\n",
    "\n",
    "b. Faire de même avec $n$ grand et impair. "
   ]
  },
  {
   "cell_type": "code",
   "execution_count": null,
   "metadata": {},
   "outputs": [],
   "source": []
  },
  {
   "cell_type": "markdown",
   "metadata": {},
   "source": [
    "c. Que constate-t-on ? À quoi cela est-il dû ?  "
   ]
  },
  {
   "cell_type": "markdown",
   "metadata": {},
   "source": [
    "4. On considère maintenant le vecteur $$\\mu=(0,1275~~0,2745~~0,3725~~0,2250)$$ et le produit $\\mu P_a$ : "
   ]
  },
  {
   "cell_type": "code",
   "execution_count": null,
   "metadata": {},
   "outputs": [],
   "source": [
    "mu=np.array([0.1275,0.2745,0.3725,0.2255])\n",
    "print(\"mu=\",mu)\n",
    "muPa=np.dot(mu,Pa)\n",
    "print(\"muPa=\",muPa)"
   ]
  },
  {
   "cell_type": "markdown",
   "metadata": {},
   "source": [
    "a. Que constate-t-on ?\n",
    "\n",
    "b. Comparer le vecteur $\\mu$ avec les distributions limites des sous-suites $(X_{2n})_{n\\in\\mathbb{N}}$ et $(X_{2n+1})_{n\\in\\mathbb{N}}$. Commenter.\n",
    "\n",
    "5. Étudier la convergence en loi pour une chaîne qui comporte des états transitoires et une seule classe récurrente."
   ]
  },
  {
   "cell_type": "code",
   "execution_count": null,
   "metadata": {},
   "outputs": [],
   "source": []
  },
  {
   "cell_type": "markdown",
   "metadata": {},
   "source": [
    "#### Remarque :\n",
    "Pour éviter des calculs de puissance d'une grosse matrice, on pourrait laisser évoluer la chaîne de Markov pendant un certain temps et *compter* la proportion du temps passé dans chaque état."
   ]
  },
  {
   "cell_type": "markdown",
   "metadata": {},
   "source": [
    "## 4- Application"
   ]
  },
  {
   "cell_type": "markdown",
   "metadata": {},
   "source": [
    "France TV a lancé fin 2020 sa plate-forme de streaming, \"Salto\".\n",
    "Elle devait se faire une place entre Netflix et Disney+, les plus gros intervenants du secteur.\n",
    "\n",
    "On suppose que la distribution des parts de marché est comme suit:\n",
    "\n",
    "$$\n",
    "\\begin{array}{c|cccc}\n",
    "Service & Netflix & Disney+ & Salto & SansAbonnement \\\\\n",
    "\\hline\n",
    "Part \\  de \\  marché & .55 & .2 & .1 & .15\n",
    "\\end{array}\n",
    "$$\n",
    "\n",
    "Disney+ s'inquiète alors de l'évolution du marché si rien n'est fait et contacte une agence de publicité. L'agence leur indique qu'avec la campagne qu'elle leur propose, les abonnées des différentes plateforme passeront, chaque semaine, d'une plateforme à l'autre selon ce qu'indique la matrice suivante : \n",
    "\n",
    "$$\n",
    "\\begin{array}{c|cccc}\n",
    " & Netflix & Disney+ & Salto & SansAbonnement \\\\\n",
    " \\hline \n",
    "Netflix& 0.9262 & 0.0385 & 0.01&  0.0253 \\\\\n",
    "Disney+&0.01& 0.94& 0.01& 0.04\\\\\n",
    "Salto&0.01& 0.03& 0.92& 0.04\\\\\n",
    "SansAbonnement&0.035& 0.035& 0.035& 0.895              \n",
    "\\end{array}\n",
    "$$\n",
    "C'est à dire qu'un usager de Netflix a une probabilité 92.62 \\% de rester sur Netflix pour la semaine, 3,85\\% de de passer chez Disney+, 1\\% de passer chez Salto, etc.\n",
    "\n",
    "\n",
    "### Exercice 6 :\n",
    "\n",
    "- Simuler le comportement de $N$ abonnées après trois semaines de campagne, puis après vint semaines.\n",
    "- Calculer la loi de $X_n$ pour $n$ grand.\n",
    "- Interpréter les résultats obtenus."
   ]
  },
  {
   "cell_type": "code",
   "execution_count": null,
   "metadata": {},
   "outputs": [],
   "source": [
    "S = np.array([[0.9262, 0.0385, 0.01, 0.0253],\n",
    "              [0.01, 0.94, 0.01, 0.04],\n",
    "              [0.01, 0.03, 0.92, 0.04],\n",
    "             [0.035, 0.035, 0.035, 0.895]])\n",
    "\n",
    "mu_S=np.array([0.55, 0.2, 0.1, 0.15])"
   ]
  },
  {
   "cell_type": "markdown",
   "metadata": {},
   "source": [
    "## 5- Cas d'une chaîne de Markov sur un espace infini"
   ]
  },
  {
   "cell_type": "markdown",
   "metadata": {},
   "source": [
    "Dans cette dernère partie, on s'intéresse à une chaîne de Markov sur un espace d'états infini. \n",
    "\n",
    "### Exercice  7 : \n",
    "- Simuler la marche aléatoire (partant de 0) sur $\\mathbb{N}$ à l'aide d'une suite de variables aléatoires de Rademacher:\n",
    "$$\n",
    "\\mathbb{P}(X_n= 1)=p = 1-\\mathbb{P}(X_n= -1).\n",
    "$$\n",
    "\n",
    "- Comparer les comportements de la chaîne pour $p<1/2$, pour  $p>1/2$ et pour $p=1/2$.\n",
    "- Représenter graphiquement ces 3 cas."
   ]
  },
  {
   "cell_type": "code",
   "execution_count": null,
   "metadata": {},
   "outputs": [],
   "source": []
  },
  {
   "cell_type": "markdown",
   "metadata": {},
   "source": [
    "### Modèle de Stock \n",
    "\n",
    "On considère l'exemple de l'exercice 5 de la feuille de TD 2. \n",
    "On pourra utiliser sans preuve les résultats de cet exercice.\n",
    "\n",
    "On note $X_n$ l'état d'un stock de pièces détachées à l'instant $n$, $D_{n+1}$ la demande (aléatoire) formulée par des clients, et on suppose qu'une seule pièce détachée est fabriquée entre les instants $n$ et $n+1$.\n",
    "\n",
    "L'état du stock à l'instant $n+1$ est alors\n",
    "$$X_{n+1} = \\max(X_n + 1 - D_{n+1},0).$$\n",
    "\n",
    "\n",
    "On suppose que $X_0 = 0$ (le stock est initialement vide) et que $(D_n)_{n \\geq 1}$ est une suite de v.a. indépendantes et de même loi que $D$, une v.a. à valeurs dans $\\{0,1,2\\}$:\n",
    "\n",
    "$$\n",
    "\\begin{array}{c|ccc}\n",
    "D & 0 & 1 & 2 \\\\\n",
    "\\hline\n",
    "\\mathbb{P}(D=k) & p_0 & p_1 & p_2\n",
    "\\end{array}\n",
    "$$\n",
    "\n",
    "On suppose que les trois probabilités $p_0,p_1,p_2$ sont strictement positives, et $p_2 \\ge p_1$.\n",
    "\n",
    "\n",
    "### Exercice 9 :\n",
    "\n",
    "- Simuler cette chaine de Markov (partant de 0)  pour différentes valeurs de $p_0,p_1,p_2$.\n"
   ]
  },
  {
   "cell_type": "code",
   "execution_count": null,
   "metadata": {},
   "outputs": [],
   "source": []
  },
  {
   "cell_type": "markdown",
   "metadata": {},
   "source": [
    "- Étudier le cas $p_0=p_2$. \n",
    "- En question 5 de l'exercice 5, on montre que si $p_0 < p_2$,\n",
    "$$\n",
    "\\mu(k) = \\left(\\frac{p_0}{p_2}\\right)^k\n",
    "$$\n",
    "est une mesure invariante pour la chaine. \n",
    "\n",
    "\n",
    "- Comparer le vecteur des fréquences empiriques avec la probablité invariante."
   ]
  },
  {
   "cell_type": "code",
   "execution_count": null,
   "metadata": {},
   "outputs": [],
   "source": []
  },
  {
   "cell_type": "markdown",
   "metadata": {},
   "source": [
    "On définit la variable aléatoire: \n",
    "\n",
    "$$\n",
    "T= \\inf\\{n \\geqslant 1 \\vert X_n=0 \\}.\n",
    "$$\n",
    "\n",
    "- Que représente $T$?\n",
    "\n",
    "- Simuler une réalisation de T et afficher l'évolution de la chaîne au cours du temps."
   ]
  },
  {
   "cell_type": "code",
   "execution_count": null,
   "metadata": {},
   "outputs": [],
   "source": []
  },
  {
   "cell_type": "markdown",
   "metadata": {},
   "source": [
    "- Calculer numériquement $\\mathbb{E}[T]$ pour $p_0<p_2$ \n",
    "- Comparer avec la valeur théorique."
   ]
  },
  {
   "cell_type": "code",
   "execution_count": null,
   "metadata": {},
   "outputs": [],
   "source": []
  }
 ],
 "metadata": {
  "kernelspec": {
   "display_name": "Python 3 (ipykernel)",
   "language": "python",
   "name": "python3"
  },
  "language_info": {
   "codemirror_mode": {
    "name": "ipython",
    "version": 3
   },
   "file_extension": ".py",
   "mimetype": "text/x-python",
   "name": "python",
   "nbconvert_exporter": "python",
   "pygments_lexer": "ipython3",
   "version": "3.12.1"
  }
 },
 "nbformat": 4,
 "nbformat_minor": 2
}
